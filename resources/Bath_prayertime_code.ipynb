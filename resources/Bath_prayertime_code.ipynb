{
  "nbformat": 4,
  "nbformat_minor": 0,
  "metadata": {
    "colab": {
      "provenance": []
    },
    "kernelspec": {
      "name": "python3",
      "display_name": "Python 3"
    },
    "language_info": {
      "name": "python"
    }
  },
  "cells": [
    {
      "cell_type": "code",
      "execution_count": 47,
      "metadata": {
        "colab": {
          "base_uri": "https://localhost:8080/"
        },
        "id": "6bkK7C_wJ4cN",
        "outputId": "b68cd4b3-d262-42c6-96b9-d84215c36ff3"
      },
      "outputs": [
        {
          "name": "stdout",
          "output_type": "stream",
          "text": [
            "Enter the input xlsx file name without extension: October\n",
            "Is daylight saving British Summer Time (BST) on or off right now? Type 1 for on and 0 for off: 0\n"
          ]
        }
      ],
      "source": [
        "import pandas as pd\n",
        "from datetime import date, timedelta\n",
        "import os\n",
        "\n",
        "# Get the current date\n",
        "today = date.today()\n",
        "\n",
        "# Get the current year\n",
        "current_year = today.year\n",
        "\n",
        "# Get the input file name without the extension\n",
        "input_file_name = os.path.splitext(input('Enter the input xlsx file name without extension: '))[0]\n",
        "\n",
        "# Add the current year to the input file name\n",
        "output_file_name = f'{input_file_name}_{current_year}'\n",
        "\n",
        "# Read the Excel file and skip the first row\n",
        "df = pd.read_excel(f'{input_file_name}.xlsx', skiprows=1)\n",
        "\n",
        "# Keep only the desired columns in the DataFrame\n",
        "columns_to_keep = ['Fajr', 'Sunrise', 'Dhuhr', 'ʿAṣr', 'Maghrib', 'ʿIshā']\n",
        "df = df[columns_to_keep]\n",
        "\n",
        "try:\n",
        "  # Convert the columns to datetime\n",
        "  df = df.apply(pd.to_datetime, format='%H:%M:%S')\n",
        "\n",
        "  # Remove the seconds from the values\n",
        "  df = df.apply(lambda x: x.dt.strftime('%H:%M'))\n",
        "except Exception as e:\n",
        "  pass\n",
        "\n",
        "timedifference = input('Is daylight saving British Summer Time (BST) on or off right now? Type 1 for on and 0 for off: ')\n",
        "\n",
        "if timedifference == '1':\n",
        "  # Subtract 1 hour from the HH values\n",
        "  df = df.apply(lambda x: pd.to_datetime(x, format='%H:%M') - timedelta(hours=1))\n",
        "else:\n",
        "  df = df.apply(lambda x: pd.to_datetime(x, format='%H:%M'))\n",
        "\n",
        "# Convert the columns back to strings\n",
        "df = df.apply(lambda x: x.dt.strftime('%H:%M'))\n",
        "\n",
        "# Insert a new empty column at the beginning\n",
        "df.insert(0, 'Days', '')\n",
        "\n",
        "if timedifference == '1':\n",
        "  # Convert the DataFrame to a CSV file with the updated output file name\n",
        "  df.to_csv(f'{output_file_name}_DST.csv', index=False)\n",
        "else:\n",
        "  df.to_csv(f'{output_file_name}_No_DST.csv', index=False)"
      ]
    }
  ]
}